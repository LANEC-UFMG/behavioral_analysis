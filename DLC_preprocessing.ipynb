{
 "cells": [
  {
   "cell_type": "markdown",
   "id": "b789baf2-b72d-4a3e-82ac-0be506bc4c59",
   "metadata": {},
   "source": [
    "# DLC Preprocessing for Barnes Maze Videos\n",
    "\n",
    "Author: Rafael S. Bessa\n",
    "\n",
    "This Jupyter Notebook provides a step-by-step pipeline for pre-processing DeepLabCut (DLC) tracking data from animal behavior videos recorded in a Barnes Maze task.\n",
    "\n",
    "It is designed for users with little or no programming experience and offers a semi-automated routine to:\n",
    "\n",
    "Select video and DLC tracking output files\n",
    "\n",
    "- Set analysis parameters\n",
    "\n",
    "- Detect trial onsets and offsets\n",
    "\n",
    "- Evaluate and visualize body part labeling likelihood\n",
    "\n",
    "- Define the spatial coordinates of maze holes\n",
    "\n",
    "- Identify and correct mislabeled frames with low likelihood\n",
    "\n",
    "### 📋 Main Sections\n",
    "\n",
    "1. Import libraries\n",
    "\n",
    "2. Select files – Choose the video and tracking coordinate files\n",
    "\n",
    "3. Set analysis parameters – Define thresholds and general settings\n",
    "\n",
    "4. Detect trials and assess labeling quality – Identify trial segments and   evaluate label confidence\n",
    "\n",
    "5. Define maze hole coordinates\n",
    "\n",
    "   5.1. _Optionally correct maze hole coordinates_\n",
    "\n",
    "7. Find and correct mislabeled frames – Detect low-likelihood labels and correct them manually\n",
    "\n",
    "### 🧭 How to Use This Notebook\n",
    "\n",
    "Each code cell is structured as an independent analysis module.\n",
    "Although the notebook is designed to be executed in order from top to bottom, users may choose to run only specific cells.\n",
    "\n",
    "> ⚠️ **Attention:** Just make sure that any required input variables are already defined when skipping steps or running out of order.\n"
   ]
  },
  {
   "cell_type": "code",
   "execution_count": 1,
   "id": "c409b720-cb04-4ee4-b8ee-c9882c0e0230",
   "metadata": {},
   "outputs": [],
   "source": [
    "# 1) Import libraries and custom functions\n",
    "\n",
    "# Standard libraries\n",
    "import numpy as np\n",
    "import pandas as pd\n",
    "import matplotlib\n",
    "matplotlib.use('TkAgg') # open plots in sepate windows\n",
    "\n",
    "# Custom modules with helper functions\n",
    "from data_handling_mod import *            # Functions for file handling and hole definition\n",
    "from Evaluate_frame_labels import *        # Functions for assessing labeling likelihood and correction\n"
   ]
  },
  {
   "cell_type": "markdown",
   "id": "f0b9f111-7d2b-4ae6-b8f9-d05024f4b7e1",
   "metadata": {},
   "source": [
    "💡 _These custom modules (data_handling_mod, Evaluate_frame_labels) must be in the same folder as this notebook or properly installed in your environment._"
   ]
  },
  {
   "cell_type": "code",
   "execution_count": 2,
   "id": "ec0ed4aa-b38d-4d1c-96c5-21c10913f951",
   "metadata": {},
   "outputs": [],
   "source": [
    "# 2) Select files (video and DLC tracking data)\n",
    "\n",
    "# Choose where to save output results (e.g., figures, corrected files)\n",
    "path = '/home/rafael/Downloads/Dados Parkinson LANEC/Dados Barnes/Coords processed/'  # <-- Replace with your desired folder path\n",
    "\n",
    "# Select input video files (.mp4, .avi, .mov, .mkv, .webm formats)\n",
    "# Set multiple=False if you want to select only one video\n",
    "video_files = select_file_video(multiple=True)\n",
    "\n",
    "# Select DLC tracking data files (.h5 format)\n",
    "coord_files = select_file_coord(multiple=True)"
   ]
  },
  {
   "cell_type": "markdown",
   "id": "01390db3-2a74-4db8-85c5-9b14aab831d5",
   "metadata": {},
   "source": [
    "📁 _A file selection window will appear. Make sure the number of selected video and DLC files matches!_"
   ]
  },
  {
   "cell_type": "code",
   "execution_count": 3,
   "id": "cbb51145-9eac-4d62-8694-4290c2a52c35",
   "metadata": {},
   "outputs": [],
   "source": [
    "# 3) Set initial parameters for analysis\n",
    "\n",
    "conf_threshold = 0.95   # Minimum confidence (likelihood) required for a body part to be considered valid\n",
    "n_bp = 9                # Number of labeled body parts (as defined in your DLC project)\n",
    "nholes = 12             # Number of holes in the Barnes Maze"
   ]
  },
  {
   "cell_type": "markdown",
   "id": "142f8d1e-43aa-4981-80c2-2611ba47fa6b",
   "metadata": {},
   "source": [
    "⚙️ _These values can be adjusted depending on your experimental setup or labeling quality._"
   ]
  },
  {
   "cell_type": "markdown",
   "id": "46199d7a-5125-4212-b9bd-2c205a0b0138",
   "metadata": {},
   "source": [
    "### Step 4: Detect Trials and Evaluate Labeling Confidence\n",
    "\n",
    "In this step, we call the function `check_frames_likelihood()`.\n",
    "\n",
    "This function identifies the **first and last frames** in which at least a certain percentage of body parts exceed the likelihood threshold. These frames are considered the start and end of a valid trial.\n",
    "\n",
    "For each video, the function:\n",
    "- Extracts frame snapshots at trial **onset** and **offset**\n",
    "- Also shows frames **before and after** those events (±3 seconds by default)\n",
    "- Plots **likelihood curves** and **pie charts** for each body part\n",
    "- Summarizes all results in a **DataFrame**\n",
    "\n",
    "> ⚠️ **IMPORTANT**: If your machine has limited memory and you are processing **many videos (>100)**, consider running this step in smaller batches by splitting `video_files` and `coord_files`."
   ]
  },
  {
   "cell_type": "code",
   "execution_count": null,
   "id": "d633faf4-cc07-430f-9df5-fd9be9890810",
   "metadata": {},
   "outputs": [],
   "source": [
    "# 4) Detect trial onset/offset and evaluate label quality using likelihood scores\n",
    "\n",
    "filename = 'Video_info.csv'  # Output filename for results\n",
    "\n",
    "# Run the evaluation function\n",
    "video_info = check_frames_likelihood(\n",
    "    video_files,\n",
    "    coord_files,\n",
    "    conf_threshold,\n",
    "    n_bp,\n",
    "    path,\n",
    "    plt_format='png'  # Output format for figures\n",
    ")\n",
    "\n",
    "# Save the resulting DataFrame with trial info and statistics\n",
    "video_info.to_csv(path + filename, index=False)"
   ]
  },
  {
   "cell_type": "markdown",
   "id": "38ae2239-d765-4050-86d8-3d81d57e34c1",
   "metadata": {},
   "source": [
    "### Step 5: Define the Spatial Coordinates of Maze Holes\n",
    "\n",
    "Now we define the positions of the holes in the Barnes Maze using the function `define_hole_position()`.\n",
    "\n",
    "This function can work in two modes:\n",
    "\n",
    "- **Automatic mode (`dv=0`)**: Coordinates are extracted directly from the DLC output table (if holes were labeled).\n",
    "- **Manual mode (`dv=1`)**: The user manually clicks on hole locations using the plotted frame.\n",
    "\n",
    "To use automatic mode, you must specify the frame index (`frame_idx`) that will be used to extract the coordinates.\n",
    "This frame should contain clearly visible and well-labeled holes."
   ]
  },
  {
   "cell_type": "code",
   "execution_count": null,
   "id": "253290e2-a126-45d4-a1f7-04ac7b160e31",
   "metadata": {},
   "outputs": [],
   "source": [
    "# 5) Get/Define holes positions\n",
    "\n",
    "frame_idx = 15 # Frame to plot/extract coordinates. (frame_onset + frame_idx)\n",
    "hole_coords = define_hole_position(video_files, coord_files, video_info, nholes, n_bp, path, frame_int, dv=0)\n",
    "hole_coords.to_csv(path + 'Hole_Coords.csv', index=False, float_format='%.2f', decimal='.') # Save output dataframe"
   ]
  },
  {
   "cell_type": "markdown",
   "id": "9e972958-4d33-4e9b-8c78-b0b7c9c9e2da",
   "metadata": {},
   "source": [
    "### Step 5.1 (Optional): Manually Correct Maze Hole Coordinates\n",
    "\n",
    "Sometimes, one or more hole coordinates may be incorrect in the selected frame.\n",
    "\n",
    "In such cases, you can **rerun the function** `define_hole_position()`, changing the frame index to be used to extract coordinates or running it in **manual mode** by passing:\n",
    "\n",
    "- The previously generated `hole_coords` DataFrame\n",
    "- A vector of indexes (NumPy array) indicating which videos need correction\n",
    "\n",
    "> ℹ️ These indexes refer to the **rows of the `hole_coords` DataFrame** (i.e., the order of the videos).\n",
    "\n",
    "> ⚠️ **Important**: Be careful **not to overwrite** the original file unless you're sure you want to replace it. Remember to change the DataFrame name when saving it."
   ]
  },
  {
   "cell_type": "code",
   "execution_count": null,
   "id": "2becb84a-d273-4a3a-b940-ba0d3fc9baae",
   "metadata": {},
   "outputs": [],
   "source": [
    "# Optional: Correct hole coordinates for specific videos\n",
    "\n",
    "# Example: Correct hole positions for videos 1 and 3 (indexes 0-based)\n",
    "error_indices = np.array([1, 3])\n",
    "# Load previous hole coords dataframe (.csv)\n",
    "old_coords = pd.read_csv('/Directory_path/Old_Coords.csv') # <-- Replace with your desired folder path + name\n",
    "\n",
    "# Rerun in manual mode (dv=1)\n",
    "hole_coords_corrected = define_hole_position(\n",
    "    video_files,\n",
    "    coord_files,\n",
    "    video_info,\n",
    "    nholes,\n",
    "    n_bp,\n",
    "    path,\n",
    "    frame_idx,\n",
    "    dv=1,\n",
    "    df=old_coords,\n",
    "    idx=error_indices\n",
    ")\n",
    "\n",
    "# Save corrected version if needed\n",
    "hole_coords_corrected.to_csv(path + 'Hole_Coords_Corrected.csv', index=False)\n"
   ]
  },
  {
   "cell_type": "markdown",
   "id": "1a05da1c-8a90-4dfa-8c56-aa61ffbe5aba",
   "metadata": {},
   "source": [
    "### Step 6: Identify and Correct Low-Confidence Frames\n",
    "\n",
    "In this step, we use the function `fix_frames_likelihood()` to identify and correct frames where body part tracking confidence is too low.\n",
    "\n",
    "This function:\n",
    "- Automatically detects sequences of **low-likelihood frames**\n",
    "- Prompts the user to **manually re-label** the body part positions on selected frames\n",
    "- Then uses **interpolation** to fill in the remaining missing/corrected coordinates across the time series\n",
    "\n",
    "This is especially useful when the animal is partially occluded, misdetected, or jumps in the frame.\n"
   ]
  },
  {
   "cell_type": "code",
   "execution_count": null,
   "id": "a9b69fe5-3dcb-4e90-8beb-cfc5ba800f19",
   "metadata": {},
   "outputs": [],
   "source": [
    "# 6) Identify and fix unreliable labels\n",
    "\n",
    "# List of body parts to check and correct (must match DLC labels exactly)\n",
    "bp_list = ['head_centre', 'neck', 'body_centre', 'tail_base']\n",
    "\n",
    "seq_thre = 15     # Minimum sequence length (in frames) to consider for correction\n",
    "frame_jump = 10   # Number of frames to skip when sampling frames for manual correction\n",
    "\n",
    "# Run the correction function for all selected files\n",
    "fix_frames_likelihood(\n",
    "    video_files,\n",
    "    coord_files,\n",
    "    video_info,\n",
    "    conf_threshold,\n",
    "    bp_list,\n",
    "    seq_thre,\n",
    "    frame_jump,\n",
    "    path\n",
    ")\n"
   ]
  },
  {
   "cell_type": "markdown",
   "id": "f98b9972-764d-49a8-9cbb-443180cd88ef",
   "metadata": {},
   "source": [
    "✍️ _You will be asked to manually click with the mouse on the body part positions for each selected frame._\n",
    "- Left button: add point\n",
    "- Middle button: undo last click\n",
    "- Right button: skip point (insert NaN) "
   ]
  },
  {
   "cell_type": "markdown",
   "id": "327520b7-553e-423e-bee2-bc37e47778e3",
   "metadata": {},
   "source": [
    "### Optional: Run Corrections on a Subset of Files\n",
    "\n",
    "Sometimes, you may want to analyze **only a subset** of your video files — either to test the routine or to skip already-processed videos.\n",
    "\n",
    "You can do this in two ways:\n",
    "1. In **Step 2**, manually select only the files you want to work with.\n",
    "2. Or, use Python indexing to select a range directly from the `video_files` and `coord_files` lists, as shown below."
   ]
  },
  {
   "cell_type": "code",
   "execution_count": 4,
   "id": "87d47cde-f35b-4054-bd19-8afc68ffae04",
   "metadata": {},
   "outputs": [
    {
     "name": "stdout",
     "output_type": "stream",
     "text": [
      "0\n"
     ]
    },
    {
     "name": "stdin",
     "output_type": "stream",
     "text": [
      "Press Enter to continue or 'q' to exit:  \n"
     ]
    },
    {
     "name": "stdout",
     "output_type": "stream",
     "text": [
      "1\n"
     ]
    },
    {
     "name": "stdin",
     "output_type": "stream",
     "text": [
      "Press Enter to continue or 'q' to exit:  \n"
     ]
    }
   ],
   "source": [
    "# Run correction on a specific range of files using Python indexing\n",
    "\n",
    "# video_info = pd.read_csv('/home/rafael/Downloads/Dados Parkinson LANEC/Dados Barnes/Video_info.csv')\n",
    "bp_list = ['head_centre', 'neck', 'body_centre', 'tail_base']\n",
    "seq_thre = 15\n",
    "frame_jump = 10\n",
    "\n",
    "# Example: Define the range of videos to process\n",
    "id_on = 5   # Start index (inclusive)\n",
    "id_off = 7  # End index (exclusive)\n",
    "\n",
    "# Run correction for selected files only\n",
    "fix_frames_likelihood(\n",
    "    video_files[id_on:id_off],\n",
    "    coord_files[id_on:id_off],\n",
    "    video_info.iloc[id_on:id_off, :],\n",
    "    conf_threshold,\n",
    "    bp_list,\n",
    "    seq_thre,\n",
    "    frame_jump,\n",
    "    path,\n",
    "    id_on\n",
    ")\n"
   ]
  },
  {
   "cell_type": "markdown",
   "id": "dd34a130-a318-4650-abe2-ce392668a834",
   "metadata": {},
   "source": [
    "🎯 _This is useful when reprocessing just a few problematic files or working in batches._"
   ]
  }
 ],
 "metadata": {
  "kernelspec": {
   "display_name": "Python 3 (ipykernel)",
   "language": "python",
   "name": "python3"
  },
  "language_info": {
   "codemirror_mode": {
    "name": "ipython",
    "version": 3
   },
   "file_extension": ".py",
   "mimetype": "text/x-python",
   "name": "python",
   "nbconvert_exporter": "python",
   "pygments_lexer": "ipython3",
   "version": "3.10.14"
  }
 },
 "nbformat": 4,
 "nbformat_minor": 5
}
